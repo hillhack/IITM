{
 "cells": [
  {
   "cell_type": "code",
   "execution_count": 62,
   "id": "61e167e4",
   "metadata": {},
   "outputs": [],
   "source": [
    "from bs4 import BeautifulSoup as bs\n",
    "import pandas as pd\n",
    "import matplotlib.pyplot as plt\n",
    "import csv"
   ]
  },
  {
   "cell_type": "code",
   "execution_count": 63,
   "id": "5620da27",
   "metadata": {
    "scrolled": true
   },
   "outputs": [],
   "source": [
    "html_file = \"Badges - IITM-DSA.html\"\n",
    "with open(html_file, 'r', encoding='utf-8') as f:\n",
    "    html_content = f.read()\n",
    "\n"
   ]
  },
  {
   "cell_type": "code",
   "execution_count": 96,
   "id": "473a926e",
   "metadata": {},
   "outputs": [],
   "source": [
    "# Create a BeautifulSoup object\n",
    "soup = BeautifulSoup(html_content, 'html.parser')\n",
    "badges = soup.find_all('div', class_ =\"badge-info-item\")\n",
    "data={}\n",
    "header = ['Badge Name','Summary', 'Count']\n",
    "with open('badges.csv', mode='w') as file:\n",
    "    writer = csv.writer(file)\n",
    "    writer.writerow(header)\n",
    "    for div in badges:\n",
    "        badge_name = div.find('h3').text\n",
    "        summary = div.find('div', class_ =\"badge-summary\").text\n",
    "        number_awarded_elem = div.find('span', class_='number')\n",
    "        count_no = number_awarded_elem.text if number_awarded_elem else 'Not awarded'\n",
    "        writer.writerow([badge_name,summary, count_no])\n"
   ]
  },
  {
   "cell_type": "code",
   "execution_count": 97,
   "id": "16999fff",
   "metadata": {},
   "outputs": [
    {
     "name": "stdout",
     "output_type": "stream",
     "text": [
      "['Badge Name', 'Summary', 'Count']\n",
      "['Autobiographer', 'Filled out profile information', '1.2k']\n",
      "['Certified', 'Completed our new user tutorial', '615']\n",
      "['Editor', 'First post edit', '642']\n",
      "['First Emoji', 'Used an Emoji in a Post', '829']\n",
      "['First Flag', 'Flagged a post', '104']\n",
      "['First Like', 'Liked a post', '3.8k']\n",
      "['First Link', 'Added a link to another topic', '86']\n",
      "['First Mention', 'Mentioned a user in a post', '475']\n",
      "['First Onebox', 'Posted a link that was oneboxed', '388']\n",
      "['First Quote', 'Quoted a post', '202']\n",
      "['First Reaction', 'Reacted to the post', '280']\n",
      "['First Reply By Email', 'Replied to a post via email', '144']\n",
      "['First Share', 'Shared a post', '168']\n",
      "['New User of the Month', 'Outstanding contributions in their first month', '57']\n",
      "['Read Guidelines', 'Read the community guidelines', '2.0k']\n",
      "['Reader', 'Read every reply in a topic with more than 100 replies', '422']\n",
      "['Wiki Editor', 'First wiki edit', '12']\n",
      "['Licensed', 'Completed our advanced user tutorial', '81']\n",
      "['Appreciated', 'Received 1 like on 20 posts', '993']\n",
      "['Enthusiast', 'Visited 10 consecutive days', '3.0k']\n",
      "['Nice Share', 'Shared a post with 25 unique visitors', '52']\n",
      "['Out of Love', 'Used 50 likes in a day', '34']\n",
      "['Promoter', 'Invited a user', '20']\n",
      "['Solved!', 'Have a reply marked as a Solution', '170']\n",
      "['Thank You', 'Has 20 liked posts and gave 10 likes', '899']\n",
      "['Welcome', 'Received a like', '1.8k']\n",
      "['Aficionado', 'Visited 100 consecutive days', '135']\n",
      "['Anniversary', 'Active member for a year, posted at least once', '14.0k']\n",
      "['Campaigner', 'Invited 3 basic users', '9']\n",
      "['Gives Back', 'Has 100 liked posts and gave 100 likes', '148']\n",
      "['Good Share', 'Shared a post with 300 unique visitors', '7']\n",
      "['Guidance Counsellor', 'Have 10 replies marked as Solutions', '4']\n",
      "['Higher Love', 'Used 50 likes in a day 5 times', '4']\n",
      "['Respected', 'Received 2 likes on 100 posts', '63']\n",
      "['Admired', 'Received 5 likes on 300 posts', '2']\n",
      "['Champion', 'Invited 5 members', '3']\n",
      "['Crazy in Love', 'Used 50 likes in a day 20 times', 'Not awarded']\n",
      "['Devotee', 'Visited 365 consecutive days', '9']\n",
      "['Empathetic', 'Has 500 liked posts and gave 1000 likes', '8']\n",
      "['Great Share', 'Shared a post with 1000 unique visitors', 'Not awarded']\n",
      "['Know-it-All', 'Have 50 replies marked as Solutions', 'Not awarded']\n",
      "['Solution Institution', 'Have 150 replies marked as Solutions', 'Not awarded']\n",
      "['Nice Reply', 'Received 10 likes on a reply', '332']\n",
      "['Nice Topic', 'Received 10 likes on a topic', '153']\n",
      "['Popular Link', 'Posted an external link with 50 clicks', '132']\n",
      "['Good Reply', 'Received 25 likes on a reply', '44']\n",
      "['Good Topic', 'Received 25 likes on a topic', '55']\n",
      "['Hot Link', 'Posted an external link with 300 clicks', '9']\n",
      "['Famous Link', 'Posted an external link with 1000 clicks', '1']\n",
      "['Great Reply', 'Received 50 likes on a reply', '4']\n",
      "['Great Topic', 'Received 50 likes on a topic', '21']\n",
      "['Basic', 'Granted all essential community functions', '8.4k']\n",
      "['Member', 'Granted invitations, group messaging, more likes', '150']\n",
      "['Regular', 'Granted recategorize, rename, followed links, wiki, more likes', '127']\n",
      "['Leader', 'Granted global edit, pin, close, archive, split and merge, more likes', '114']\n"
     ]
    }
   ],
   "source": [
    "with open('badges.csv', mode='r', newline='') as file:\n",
    "    reader = csv.reader(file)\n",
    "    for row in reader:\n",
    "        print(row)"
   ]
  },
  {
   "cell_type": "code",
   "execution_count": null,
   "id": "0d938750",
   "metadata": {},
   "outputs": [],
   "source": [
    "#Analysis1: there are 4 badges which no one get.\n",
    "#Analysis2: Badge Basic is got highest count.\n",
    "#Analysis3: In total 55 Badges are there."
   ]
  }
 ],
 "metadata": {
  "kernelspec": {
   "display_name": "Python 3 (ipykernel)",
   "language": "python",
   "name": "python3"
  },
  "language_info": {
   "codemirror_mode": {
    "name": "ipython",
    "version": 3
   },
   "file_extension": ".py",
   "mimetype": "text/x-python",
   "name": "python",
   "nbconvert_exporter": "python",
   "pygments_lexer": "ipython3",
   "version": "3.10.12"
  }
 },
 "nbformat": 4,
 "nbformat_minor": 5
}
