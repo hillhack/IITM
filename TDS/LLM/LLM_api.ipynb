{
  "nbformat": 4,
  "nbformat_minor": 0,
  "metadata": {
    "colab": {
      "provenance": [],
      "toc_visible": true,
      "authorship_tag": "ABX9TyMLhMKaHrpUYJGLajnuTdeU",
      "include_colab_link": true
    },
    "kernelspec": {
      "name": "python3",
      "display_name": "Python 3"
    },
    "language_info": {
      "name": "python"
    }
  },
  "cells": [
    {
      "cell_type": "markdown",
      "metadata": {
        "id": "view-in-github",
        "colab_type": "text"
      },
      "source": [
        "<a href=\"https://colab.research.google.com/github/hillhack/IITM/blob/main/LLM_api.ipynb\" target=\"_parent\"><img src=\"https://colab.research.google.com/assets/colab-badge.svg\" alt=\"Open In Colab\"/></a>"
      ]
    },
    {
      "cell_type": "code",
      "execution_count": 4,
      "metadata": {
        "id": "dD2CP6iPSN2K"
      },
      "outputs": [],
      "source": [
        "import requests\n",
        "from google.colab import userdata\n",
        "\n",
        "api_key = userdata.get('my_key')"
      ]
    },
    {
      "cell_type": "code",
      "source": [
        "# List all models\n",
        "r = requests.get(\" https://aiproxy.sanand.workers.dev/openai/v1/models\", headers={\n",
        "    \"Authorization\": f\"Bearer {api_key}\"\n",
        "})\n",
        "r.json()\n"
      ],
      "metadata": {
        "colab": {
          "base_uri": "https://localhost:8080/"
        },
        "id": "hsQbXoNBhqUc",
        "outputId": "335cbdb0-0c8e-4093-e73a-c0952febde28"
      },
      "execution_count": 5,
      "outputs": [
        {
          "output_type": "execute_result",
          "data": {
            "text/plain": [
              "{'object': 'list',\n",
              " 'data': [{'id': 'gpt-3.5-turbo-0613',\n",
              "   'object': 'model',\n",
              "   'created': 1686587434,\n",
              "   'owned_by': 'openai'},\n",
              "  {'id': 'whisper-1',\n",
              "   'object': 'model',\n",
              "   'created': 1677532384,\n",
              "   'owned_by': 'openai-internal'},\n",
              "  {'id': 'gpt-4o',\n",
              "   'object': 'model',\n",
              "   'created': 1715367049,\n",
              "   'owned_by': 'system'},\n",
              "  {'id': 'dall-e-2',\n",
              "   'object': 'model',\n",
              "   'created': 1698798177,\n",
              "   'owned_by': 'system'},\n",
              "  {'id': 'gpt-3.5-turbo-16k',\n",
              "   'object': 'model',\n",
              "   'created': 1683758102,\n",
              "   'owned_by': 'openai-internal'},\n",
              "  {'id': 'tts-1-hd-1106',\n",
              "   'object': 'model',\n",
              "   'created': 1699053533,\n",
              "   'owned_by': 'system'},\n",
              "  {'id': 'gpt-4o-2024-05-13',\n",
              "   'object': 'model',\n",
              "   'created': 1715368132,\n",
              "   'owned_by': 'system'},\n",
              "  {'id': 'tts-1-hd',\n",
              "   'object': 'model',\n",
              "   'created': 1699046015,\n",
              "   'owned_by': 'system'},\n",
              "  {'id': 'gpt-4-turbo-2024-04-09',\n",
              "   'object': 'model',\n",
              "   'created': 1712601677,\n",
              "   'owned_by': 'system'},\n",
              "  {'id': 'gpt-4-0125-preview',\n",
              "   'object': 'model',\n",
              "   'created': 1706037612,\n",
              "   'owned_by': 'system'},\n",
              "  {'id': 'gpt-4-turbo-preview',\n",
              "   'object': 'model',\n",
              "   'created': 1706037777,\n",
              "   'owned_by': 'system'},\n",
              "  {'id': 'gpt-4-turbo',\n",
              "   'object': 'model',\n",
              "   'created': 1712361441,\n",
              "   'owned_by': 'system'},\n",
              "  {'id': 'gpt-3.5-turbo-instruct-0914',\n",
              "   'object': 'model',\n",
              "   'created': 1694122472,\n",
              "   'owned_by': 'system'},\n",
              "  {'id': 'gpt-3.5-turbo',\n",
              "   'object': 'model',\n",
              "   'created': 1677610602,\n",
              "   'owned_by': 'openai'},\n",
              "  {'id': 'gpt-3.5-turbo-instruct',\n",
              "   'object': 'model',\n",
              "   'created': 1692901427,\n",
              "   'owned_by': 'system'},\n",
              "  {'id': 'text-embedding-3-small',\n",
              "   'object': 'model',\n",
              "   'created': 1705948997,\n",
              "   'owned_by': 'system'},\n",
              "  {'id': 'tts-1',\n",
              "   'object': 'model',\n",
              "   'created': 1681940951,\n",
              "   'owned_by': 'openai-internal'},\n",
              "  {'id': 'text-embedding-3-large',\n",
              "   'object': 'model',\n",
              "   'created': 1705953180,\n",
              "   'owned_by': 'system'},\n",
              "  {'id': 'gpt-4-1106-preview',\n",
              "   'object': 'model',\n",
              "   'created': 1698957206,\n",
              "   'owned_by': 'system'},\n",
              "  {'id': 'babbage-002',\n",
              "   'object': 'model',\n",
              "   'created': 1692634615,\n",
              "   'owned_by': 'system'},\n",
              "  {'id': 'gpt-3.5-turbo-0125',\n",
              "   'object': 'model',\n",
              "   'created': 1706048358,\n",
              "   'owned_by': 'system'},\n",
              "  {'id': 'gpt-4-0613',\n",
              "   'object': 'model',\n",
              "   'created': 1686588896,\n",
              "   'owned_by': 'openai'},\n",
              "  {'id': 'tts-1-1106',\n",
              "   'object': 'model',\n",
              "   'created': 1699053241,\n",
              "   'owned_by': 'system'},\n",
              "  {'id': 'gpt-4',\n",
              "   'object': 'model',\n",
              "   'created': 1687882411,\n",
              "   'owned_by': 'openai'},\n",
              "  {'id': 'gpt-4-0314',\n",
              "   'object': 'model',\n",
              "   'created': 1687882410,\n",
              "   'owned_by': 'openai'},\n",
              "  {'id': 'dall-e-3',\n",
              "   'object': 'model',\n",
              "   'created': 1698785189,\n",
              "   'owned_by': 'system'},\n",
              "  {'id': 'text-embedding-ada-002',\n",
              "   'object': 'model',\n",
              "   'created': 1671217299,\n",
              "   'owned_by': 'openai-internal'},\n",
              "  {'id': 'gpt-4-32k-0314',\n",
              "   'object': 'model',\n",
              "   'created': 1687979321,\n",
              "   'owned_by': 'openai'},\n",
              "  {'id': 'davinci-002',\n",
              "   'object': 'model',\n",
              "   'created': 1692634301,\n",
              "   'owned_by': 'system'},\n",
              "  {'id': 'gpt-4-vision-preview',\n",
              "   'object': 'model',\n",
              "   'created': 1698894917,\n",
              "   'owned_by': 'system'},\n",
              "  {'id': 'gpt-4-1106-vision-preview',\n",
              "   'object': 'model',\n",
              "   'created': 1711473033,\n",
              "   'owned_by': 'system'},\n",
              "  {'id': 'gpt-3.5-turbo-1106',\n",
              "   'object': 'model',\n",
              "   'created': 1698959748,\n",
              "   'owned_by': 'system'},\n",
              "  {'id': 'gpt-3.5-turbo-16k-0613',\n",
              "   'object': 'model',\n",
              "   'created': 1685474247,\n",
              "   'owned_by': 'openai'},\n",
              "  {'id': 'gpt-3.5-turbo-0301',\n",
              "   'object': 'model',\n",
              "   'created': 1677649963,\n",
              "   'owned_by': 'openai'}]}"
            ]
          },
          "metadata": {},
          "execution_count": 5
        }
      ]
    },
    {
      "cell_type": "code",
      "source": [
        "import pandas as pd\n",
        "data = pd.read_csv('movie-reviews.csv')\n",
        "statement = data['review'][1]\n",
        "statement"
      ],
      "metadata": {
        "colab": {
          "base_uri": "https://localhost:8080/",
          "height": 139
        },
        "id": "b4zrLxLk6T-K",
        "outputId": "55ece89b-ed00-408d-a3a7-2e2055e22a1d"
      },
      "execution_count": 7,
      "outputs": [
        {
          "output_type": "execute_result",
          "data": {
            "text/plain": [
              "'A wonderful little production. <br /><br />The filming technique is very unassuming- very old-time-BBC fashion and gives a comforting, and sometimes discomforting, sense of realism to the entire piece. <br /><br />The actors are extremely well chosen- Michael Sheen not only \"has got all the polari\" but he has all the voices down pat too! You can truly see the seamless editing guided by the references to Williams\\' diary entries, not only is it well worth the watching but it is a terrificly written and performed piece. A masterful production about one of the great master\\'s of comedy and his life. <br /><br />The realism really comes home with the little things: the fantasy of the guard which, rather than use the traditional \\'dream\\' techniques remains solid then disappears. It plays on our knowledge and our senses, particularly with the scenes concerning Orton and Halliwell and the sets (particularly of their flat with Halliwell\\'s murals decorating every surface) are terribly well done.'"
            ],
            "application/vnd.google.colaboratory.intrinsic+json": {
              "type": "string"
            }
          },
          "metadata": {},
          "execution_count": 7
        }
      ]
    },
    {
      "cell_type": "code",
      "source": [
        "import json\n",
        "\n",
        "def get_sentiment(y, debug=False):\n",
        "    stuff = requests.post(\n",
        "        \"https://aiproxy.sanand.workers.dev/openai/v1/chat/completions\",\n",
        "        headers={\"Authorization\": f\"Bearer {api_key}\"},\n",
        "        json={\n",
        "            \"model\": \"gpt-3.5-turbo\",\n",
        "            \"messages\": [\n",
        "                {\"role\": \"system\", \"content\": \"Identify the sentiment of the movie. JUST say positive / negative\"},\n",
        "                {\"role\": \"user\", \"content\": y}\n",
        "            ]\n",
        "        }\n",
        "    )\n",
        "    return stuff"
      ],
      "metadata": {
        "id": "fpkDb6qo63Kq"
      },
      "execution_count": 8,
      "outputs": []
    },
    {
      "cell_type": "code",
      "source": [
        "get_sentiment(statement).json()"
      ],
      "metadata": {
        "colab": {
          "base_uri": "https://localhost:8080/"
        },
        "id": "rVqkGr9e9CWu",
        "outputId": "aa34490c-dd6e-4226-a18c-bf2cf80aed04"
      },
      "execution_count": 9,
      "outputs": [
        {
          "output_type": "execute_result",
          "data": {
            "text/plain": [
              "{'id': 'chatcmpl-9l7Sye0p5T4YJYMicPKXblPlqWbUK',\n",
              " 'object': 'chat.completion',\n",
              " 'created': 1721017144,\n",
              " 'model': 'gpt-3.5-turbo-0125',\n",
              " 'choices': [{'index': 0,\n",
              "   'message': {'role': 'assistant', 'content': 'positive'},\n",
              "   'logprobs': None,\n",
              "   'finish_reason': 'stop'}],\n",
              " 'usage': {'prompt_tokens': 234, 'completion_tokens': 1, 'total_tokens': 235},\n",
              " 'system_fingerprint': None,\n",
              " 'monthlyCost': 0.0028320000000000003,\n",
              " 'cost': 0.0007080000000000001,\n",
              " 'monthlyRequests': 4}"
            ]
          },
          "metadata": {},
          "execution_count": 9
        }
      ]
    },
    {
      "cell_type": "code",
      "source": [
        "from google.colab import drive\n",
        "drive.mount('/content/drive')"
      ],
      "metadata": {
        "id": "xoVK9RZOrYuF"
      },
      "execution_count": null,
      "outputs": []
    },
    {
      "cell_type": "code",
      "source": [
        "# prompt: !pip install textblob\n",
        "\n",
        "!pip install textblob\n",
        "from textblob import TextBlob\n",
        "\n",
        "text = input()\n",
        "blob = TextBlob(text)\n",
        "sentiment = blob.sentiment\n",
        "print(sentiment)\n"
      ],
      "metadata": {
        "colab": {
          "base_uri": "https://localhost:8080/"
        },
        "id": "p50MZ_pH61iE",
        "outputId": "7521f162-cbba-40bb-f46a-f29e5bf3c691"
      },
      "execution_count": null,
      "outputs": [
        {
          "output_type": "stream",
          "name": "stdout",
          "text": [
            "Requirement already satisfied: textblob in /usr/local/lib/python3.10/dist-packages (0.17.1)\n",
            "Requirement already satisfied: nltk>=3.1 in /usr/local/lib/python3.10/dist-packages (from textblob) (3.8.1)\n",
            "Requirement already satisfied: click in /usr/local/lib/python3.10/dist-packages (from nltk>=3.1->textblob) (8.1.7)\n",
            "Requirement already satisfied: joblib in /usr/local/lib/python3.10/dist-packages (from nltk>=3.1->textblob) (1.4.2)\n",
            "Requirement already satisfied: regex>=2021.8.3 in /usr/local/lib/python3.10/dist-packages (from nltk>=3.1->textblob) (2024.5.15)\n",
            "Requirement already satisfied: tqdm in /usr/local/lib/python3.10/dist-packages (from nltk>=3.1->textblob) (4.66.4)\n",
            "You is bad\n",
            "Sentiment(polarity=-0.6999999999999998, subjectivity=0.6666666666666666)\n"
          ]
        }
      ]
    }
  ]
}