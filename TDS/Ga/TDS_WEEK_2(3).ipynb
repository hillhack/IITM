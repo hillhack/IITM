{
 "cells": [
  {
   "cell_type": "markdown",
   "metadata": {
    "id": "X7j1U--FBpLn"
   },
   "source": [
    "# Q1\n",
    "\n"
   ]
  },
  {
   "cell_type": "markdown",
   "metadata": {
    "id": "oJgi7PjZBx44"
   },
   "source": [
    "IMPORTXML\n",
    "\n",
    "https://support.google.com/docs/answer/3093342?sjid=4129603361410388469-AP\n"
   ]
  },
  {
   "cell_type": "markdown",
   "metadata": {
    "id": "3y8kqf0kDdHe"
   },
   "source": [
    "# Q2"
   ]
  },
  {
   "cell_type": "markdown",
   "metadata": {
    "id": "MwsZpCqFDf0r"
   },
   "source": [
    "d)"
   ]
  },
  {
   "cell_type": "markdown",
   "metadata": {
    "id": "6ME4LxmjAQtz"
   },
   "source": [
    "# Q3"
   ]
  },
  {
   "cell_type": "markdown",
   "metadata": {
    "id": "LnCZXzZ9AdP8"
   },
   "source": [
    "put your_pokemon_name in place of `your_pokemon_1` and `your_pokemon_2` in api call"
   ]
  },
  {
   "cell_type": "code",
   "execution_count": 54,
   "metadata": {
    "colab": {
     "base_uri": "https://localhost:8080/"
    },
    "id": "YQN_U8SmzGAm",
    "outputId": "958238b1-37a2-42a6-e16e-225165d70475"
   },
   "outputs": [
    {
     "data": {
      "text/plain": [
       "0"
      ]
     },
     "execution_count": 54,
     "metadata": {},
     "output_type": "execute_result"
    }
   ],
   "source": [
    "#importing required library\n",
    "import requests\n",
    "\n",
    "#making an api call to PokeAPI to get the details about the pokemon\n",
    "response_rapidash = requests.get('https://pokeapi.co/api/v2/pokemon/nidoking')\n",
    "response_voltorb = requests.get('https://pokeapi.co/api/v2/pokemon/ekans')\n",
    "#parsing through the json response to get the required moves in a particular version\n",
    "version = 'scarlet-violet'\n",
    "\n",
    "voltorb_moves = []\n",
    "for i in response_voltorb.json()['moves']:\n",
    "  flag = False\n",
    "  for j in i['version_group_details']:\n",
    "    if j['version_group']['name'] == version:\n",
    "      flag = True\n",
    "      break\n",
    "  if flag:\n",
    "    voltorb_moves.append(i['move']['name'])\n",
    "\n",
    "rapidash_moves = []\n",
    "for i in response_rapidash.json()['moves']:\n",
    "  flag = False\n",
    "  for j in i['version_group_details']:\n",
    "    # print(j['move_learn_method'])\n",
    "    if j['version_group']['name'] == version:\n",
    "      flag = True\n",
    "      break\n",
    "  if flag:\n",
    "    # print(i)\n",
    "    rapidash_moves.append(i['move']['name'])\n",
    "# print(rapidash_moves)\n",
    "\n",
    "#counting the moves that rapidash has but voltorb does not\n",
    "count = 0\n",
    "for i in rapidash_moves:\n",
    "  if i not in voltorb_moves:\n",
    "    count = count+1\n",
    "count"
   ]
  },
  {
   "cell_type": "markdown",
   "metadata": {
    "id": "mjCiyoZzDl2Y"
   },
   "source": []
  },
  {
   "cell_type": "markdown",
   "metadata": {
    "id": "RWb5vYKzEgXH"
   },
   "source": [
    "#Q4"
   ]
  },
  {
   "cell_type": "markdown",
   "metadata": {
    "id": "Ya0fQMDfEiT_"
   },
   "source": [
    "1. Inspect element Tab\n",
    "2. In console write:\n",
    "\n",
    "`document.querySelectorAll('your given tag').length`\n"
   ]
  },
  {
   "cell_type": "markdown",
   "metadata": {
    "id": "K2IK4EGhA13u"
   },
   "source": [
    "#Q5,6"
   ]
  },
  {
   "cell_type": "code",
   "execution_count": 28,
   "metadata": {},
   "outputs": [
    {
     "name": "stdout",
     "output_type": "stream",
     "text": [
      "Min lat 48.8155755\n",
      "Min long 48.9021560\n",
      "Max lat 2.2241220\n",
      "Max long 2.4697602\n"
     ]
    }
   ],
   "source": [
    "from geopy.geocoders import Nominatim\n",
    "\n",
    "# Initialize the Nominatim geocoder\n",
    "geolocator = Nominatim(user_agent=\"your_user_agent\")\n",
    "osm_id = '1525'\n",
    "# Geocode Paris, France\n",
    "location = geolocator.geocode(\"paris, france\", exactly_one = False)\n",
    "for loc in location:\n",
    "    if osm_id in str(loc.raw['osm_id']):\n",
    "        print('Min lat', loc.raw['boundingbox'][0])\n",
    "        print('Min long', loc.raw['boundingbox'][1])\n",
    "        print('Max lat', loc.raw['boundingbox'][2])\n",
    "        print('Max long', loc.raw['boundingbox'][3])"
   ]
  },
  {
   "cell_type": "code",
   "execution_count": 21,
   "metadata": {},
   "outputs": [
    {
     "name": "stdout",
     "output_type": "stream",
     "text": [
      "Defaulting to user installation because normal site-packages is not writeable\n",
      "Requirement already satisfied: geopy in /home/feynman/.local/lib/python3.10/site-packages (2.4.1)\n",
      "Requirement already satisfied: geographiclib<3,>=1.52 in /home/feynman/.local/lib/python3.10/site-packages (from geopy) (2.0)\n",
      "Note: you may need to restart the kernel to use updated packages.\n"
     ]
    }
   ],
   "source": [
    "pip install geopy\n"
   ]
  },
  {
   "cell_type": "code",
   "execution_count": null,
   "metadata": {
    "colab": {
     "base_uri": "https://localhost:8080/"
    },
    "id": "w27b3aEWt4MF",
    "outputId": "cddae360-25e7-4a40-a019-bf25cd935fb5"
   },
   "outputs": [
    {
     "data": {
      "text/plain": [
       "{'place_id': 239674978,\n",
       " 'licence': 'Data © OpenStreetMap contributors, ODbL 1.0. http://osm.org/copyright',\n",
       " 'osm_type': 'node',\n",
       " 'osm_id': 7714547745,\n",
       " 'lat': '30.7001324',\n",
       " 'lon': '104.0708278',\n",
       " 'class': 'railway',\n",
       " 'type': 'station',\n",
       " 'place_rank': 30,\n",
       " 'importance': 0.421335061990991,\n",
       " 'addresstype': 'railway',\n",
       " 'name': '成都',\n",
       " 'display_name': '成都, 站西路, 荷花池街道, 金牛区, 成都市, 高新区（西区）, 四川省, 610031, 中国',\n",
       " 'boundingbox': ['30.6951324', '30.7051324', '104.0658278', '104.0758278']}"
      ]
     },
     "execution_count": 6,
     "metadata": {},
     "output_type": "execute_result"
    }
   ],
   "source": [
    "addr = geolocator.geocode(location_name)\n",
    "addr.raw # check your osm_id as per qn"
   ]
  },
  {
   "cell_type": "markdown",
   "metadata": {
    "id": "zT1BzxoOGeap"
   },
   "source": [
    "#Q7"
   ]
  },
  {
   "cell_type": "markdown",
   "metadata": {
    "id": "g352L7drGhHX"
   },
   "source": [
    "d) `response.content`\n",
    "\n",
    "to learn more: https://www.geeksforgeeks.org/response-content-python-requests/"
   ]
  },
  {
   "cell_type": "markdown",
   "metadata": {
    "id": "BJqAmjjJGHho"
   },
   "source": [
    "# Q8,9\n",
    "\n",
    "Paste entire qn in BingAi and ask for solution"
   ]
  },
  {
   "cell_type": "markdown",
   "metadata": {
    "id": "UJkXY3KEBBD1"
   },
   "source": [
    "# Q10"
   ]
  },
  {
   "cell_type": "code",
   "execution_count": 29,
   "metadata": {
    "colab": {
     "base_uri": "https://localhost:8080/"
    },
    "id": "9isnvcI7xWD_",
    "outputId": "9b661234-3ed6-421e-9cb4-2c384707a6b3"
   },
   "outputs": [
    {
     "name": "stdout",
     "output_type": "stream",
     "text": [
      "Defaulting to user installation because normal site-packages is not writeable\n",
      "Collecting tabula-py\n",
      "  Downloading tabula_py-2.9.3-py3-none-any.whl (12.0 MB)\n",
      "\u001b[2K     \u001b[38;2;114;156;31m━━━━━━━━━━━━━━━━━━━━━━━━━━━━━━━━━━━━━━━━\u001b[0m \u001b[32m12.0/12.0 MB\u001b[0m \u001b[31m2.7 MB/s\u001b[0m eta \u001b[36m0:00:00\u001b[0mm eta \u001b[36m0:00:01\u001b[0m[36m0:00:01\u001b[0m\n",
      "\u001b[?25hRequirement already satisfied: numpy in /home/feynman/.local/lib/python3.10/site-packages (from tabula-py) (1.26.4)\n",
      "Requirement already satisfied: distro in /usr/lib/python3/dist-packages (from tabula-py) (1.7.0)\n",
      "Requirement already satisfied: pandas>=0.25.3 in /home/feynman/.local/lib/python3.10/site-packages (from tabula-py) (2.0.1)\n",
      "Requirement already satisfied: tzdata>=2022.1 in /home/feynman/.local/lib/python3.10/site-packages (from pandas>=0.25.3->tabula-py) (2023.3)\n",
      "Requirement already satisfied: python-dateutil>=2.8.2 in /home/feynman/.local/lib/python3.10/site-packages (from pandas>=0.25.3->tabula-py) (2.8.2)\n",
      "Requirement already satisfied: pytz>=2020.1 in /home/feynman/.local/lib/python3.10/site-packages (from pandas>=0.25.3->tabula-py) (2023.3)\n",
      "Requirement already satisfied: six>=1.5 in /usr/lib/python3/dist-packages (from python-dateutil>=2.8.2->pandas>=0.25.3->tabula-py) (1.16.0)\n",
      "Installing collected packages: tabula-py\n",
      "Successfully installed tabula-py-2.9.3\n"
     ]
    }
   ],
   "source": [
    "!pip install tabula-py"
   ]
  },
  {
   "cell_type": "code",
   "execution_count": 53,
   "metadata": {
    "colab": {
     "base_uri": "https://localhost:8080/"
    },
    "id": "3RUvGDu9uAET",
    "outputId": "2c24f02b-c591-4cb9-af2f-a0237c380689"
   },
   "outputs": [
    {
     "data": {
      "text/plain": [
       "Maths        54144\n",
       "Physics      55117\n",
       "English      54862\n",
       "Economics    54377\n",
       "Biology      55214\n",
       "dtype: int64"
      ]
     },
     "execution_count": 53,
     "metadata": {},
     "output_type": "execute_result"
    }
   ],
   "source": [
    "import tabula\n",
    "import pandas as pd\n",
    "import numpy as np\n",
    "dfs = list()\n",
    "\n",
    "l = tabula.read_pdf('ga2.9.pdf', pages = \"8-41\") #change the \"pages\" as per your question\n",
    "# l = l.reshape(-1,5)\n",
    "\n",
    "# df = pd.DataFrame(data=l)\n",
    "\n",
    "# df = df[df[\"Economics\"] >= 11].sum()#change the condition as per your question\n",
    "df = pd.concat(l, ignore_index=True)\n",
    "dfs = df[df[\"Economics\"] >= 11].sum()\n",
    "dfs\n"
   ]
  },
  {
   "cell_type": "code",
   "execution_count": null,
   "metadata": {},
   "outputs": [],
   "source": []
  }
 ],
 "metadata": {
  "colab": {
   "provenance": []
  },
  "kernelspec": {
   "display_name": "Python 3 (ipykernel)",
   "language": "python",
   "name": "python3"
  },
  "language_info": {
   "codemirror_mode": {
    "name": "ipython",
    "version": 3
   },
   "file_extension": ".py",
   "mimetype": "text/x-python",
   "name": "python",
   "nbconvert_exporter": "python",
   "pygments_lexer": "ipython3",
   "version": "3.10.12"
  }
 },
 "nbformat": 4,
 "nbformat_minor": 1
}
