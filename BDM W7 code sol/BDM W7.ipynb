{
 "cells": [
  {
   "cell_type": "code",
   "execution_count": 1,
   "id": "16950fc8",
   "metadata": {},
   "outputs": [
    {
     "name": "stdout",
     "output_type": "stream",
     "text": [
      "           Gear Assembly GA Category   Month Quarter Fiscal Year   \n",
      "0  Gear Assembly 1 (BS4)    BS4 Only   April      Q1     2019-20  \\\n",
      "1  Gear Assembly 1 (BS4)    BS4 Only     May      Q1     2019-20   \n",
      "2  Gear Assembly 1 (BS4)    BS4 Only    June      Q1     2019-20   \n",
      "3  Gear Assembly 1 (BS4)    BS4 Only    July      Q2     2019-20   \n",
      "4  Gear Assembly 1 (BS4)    BS4 Only  August      Q2     2019-20   \n",
      "\n",
      "   Quantity Produced  Sales Quantity  Price  \n",
      "0               6280            6044    371  \n",
      "1               5891            5372    503  \n",
      "2               6791            5783    435  \n",
      "3               5470            5056    344  \n",
      "4               6730            6268    393  \n"
     ]
    }
   ],
   "source": [
    "import pandas as pd\n",
    "\n",
    "# Load the data\n",
    "data = pd.read_csv('dataset_7_171.xlsx - Data.csv')\n",
    "\n",
    "# Display the first few rows of the dataset\n",
    "print(data.head())\n"
   ]
  },
  {
   "cell_type": "markdown",
   "id": "b041fe50",
   "metadata": {},
   "source": [
    "Q2Which gear assembly has yielded the maximum revenue to ACE Gears during\n",
    "the given period? "
   ]
  },
  {
   "cell_type": "code",
   "execution_count": 2,
   "id": "e6f8803f",
   "metadata": {},
   "outputs": [
    {
     "name": "stdout",
     "output_type": "stream",
     "text": [
      "Gear Assembly with maximum revenue: Gear Assembly 4 (BS4/6)\n"
     ]
    }
   ],
   "source": [
    "data['Revenue'] = data['Sales Quantity'] * data['Price']\n",
    "\n",
    "max_revenue_gear_assembly = data.groupby('Gear Assembly')['Revenue'].sum().idxmax()\n",
    "print(\"Gear Assembly with maximum revenue:\", max_revenue_gear_assembly)\n"
   ]
  },
  {
   "cell_type": "markdown",
   "id": "679d9582",
   "metadata": {},
   "source": [
    "Q3\n",
    "Which period saw the maximum Sales of Combination Gear Assemblies?\n"
   ]
  },
  {
   "cell_type": "code",
   "execution_count": 3,
   "id": "4ee89294",
   "metadata": {},
   "outputs": [
    {
     "name": "stdout",
     "output_type": "stream",
     "text": [
      "Period with maximum sales of Combination Gear Assemblies: {'Month': 'February', 'Quarter': 'Q4', 'Fiscal Year': '2020-21'}\n"
     ]
    }
   ],
   "source": [
    "combination_gear_assemblies = data[data['GA Category'] == 'Combination']\n",
    "\n",
    "max_sales_period_combination = combination_gear_assemblies.loc[combination_gear_assemblies['Sales Quantity'].idxmax(), ['Month', 'Quarter', 'Fiscal Year']]\n",
    "print(\"Period with maximum sales of Combination Gear Assemblies:\", max_sales_period_combination.to_dict())\n"
   ]
  },
  {
   "cell_type": "markdown",
   "id": "f8ee5e10",
   "metadata": {},
   "source": [
    "Q4Which Gear Assembly returned the highest percentage unit (net) margin?"
   ]
  },
  {
   "cell_type": "code",
   "execution_count": 4,
   "id": "1ef78122",
   "metadata": {},
   "outputs": [
    {
     "name": "stdout",
     "output_type": "stream",
     "text": [
      "Gear Assembly with highest percentage unit (net) margin: Gear Assembly 5 (BS6)\n"
     ]
    }
   ],
   "source": [
    "# Calculate net margin for each entry\n",
    "data['Net Margin'] = (data['Price'] - (data['Revenue'] / data['Quantity Produced'])) / data['Price']\n",
    "\n",
    "# Group by Gear Assembly and calculate the mean net margin\n",
    "highest_net_margin_gear_assembly = data.groupby('Gear Assembly')['Net Margin'].mean().idxmax()\n",
    "print(\"Gear Assembly with highest percentage unit (net) margin:\", highest_net_margin_gear_assembly)\n"
   ]
  },
  {
   "cell_type": "markdown",
   "id": "4abc9b2c",
   "metadata": {},
   "source": [
    "Q5Which period saw the least amount of ending inventory in terms of volume?\n"
   ]
  },
  {
   "cell_type": "code",
   "execution_count": 5,
   "id": "e9476dfd",
   "metadata": {},
   "outputs": [
    {
     "name": "stdout",
     "output_type": "stream",
     "text": [
      "Period with least ending inventory: {'Month': 'October', 'Quarter': 'Q3', 'Fiscal Year': '2019-20'}\n"
     ]
    }
   ],
   "source": [
    "data['Ending Inventory'] = data['Quantity Produced'] - data['Sales Quantity']\n",
    "\n",
    "least_ending_inventory_period = data.loc[data['Ending Inventory'].idxmin(), ['Month', 'Quarter', 'Fiscal Year']]\n",
    "print(\"Period with least ending inventory:\", least_ending_inventory_period.to_dict())\n"
   ]
  },
  {
   "cell_type": "markdown",
   "id": "931ee9ec",
   "metadata": {},
   "source": [
    "Q6Which Gear Assembly made the maximum jump in the percentage revenue from\n",
    "2019-20 to 2020-21?"
   ]
  },
  {
   "cell_type": "code",
   "execution_count": 6,
   "id": "5d7b711f",
   "metadata": {},
   "outputs": [
    {
     "name": "stdout",
     "output_type": "stream",
     "text": [
      "Gear Assembly with maximum jump in percentage revenue from 2019-20 to 2020-21: Gear Assembly 6 (BS6)\n"
     ]
    }
   ],
   "source": [
    "# Group by Gear Assembly and Fiscal Year to get the total revenue for each year\n",
    "yearly_revenue = data.groupby(['Gear Assembly', 'Fiscal Year'])['Revenue'].sum().unstack()\n",
    "\n",
    "# Calculate the percentage change from 2019-20 to 2020-21\n",
    "yearly_revenue['Percentage Change'] = ((yearly_revenue['2020-21'] - yearly_revenue['2019-20']) / yearly_revenue['2019-20']) * 100\n",
    "\n",
    "# Find the gear assembly with the maximum percentage change\n",
    "max_jump_percentage_gear_assembly = yearly_revenue['Percentage Change'].idxmax()\n",
    "print(\"Gear Assembly with maximum jump in percentage revenue from 2019-20 to 2020-21:\", max_jump_percentage_gear_assembly)\n"
   ]
  },
  {
   "cell_type": "code",
   "execution_count": null,
   "id": "bbc18229",
   "metadata": {},
   "outputs": [],
   "source": []
  }
 ],
 "metadata": {
  "kernelspec": {
   "display_name": "Python 3 (ipykernel)",
   "language": "python",
   "name": "python3"
  },
  "language_info": {
   "codemirror_mode": {
    "name": "ipython",
    "version": 3
   },
   "file_extension": ".py",
   "mimetype": "text/x-python",
   "name": "python",
   "nbconvert_exporter": "python",
   "pygments_lexer": "ipython3",
   "version": "3.10.12"
  }
 },
 "nbformat": 4,
 "nbformat_minor": 5
}
